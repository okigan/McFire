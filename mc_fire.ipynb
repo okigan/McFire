{
 "cells": [
  {
   "cell_type": "code",
   "execution_count": 13,
   "metadata": {
    "pycharm": {
     "is_executing": false,
     "name": "#%%\n"
    }
   },
   "outputs": [],
   "source": [
    "import os\n",
    "import random\n",
    "import matplotlib.pyplot as plt\n",
    "import statistics\n",
    "import numpy\n",
    "import yaml\n",
    "\n",
    "# https://retirementplans.vanguard.com/VGApp/pe/pubeducation/calculators/RetirementNestEggCalc.jsf\n"
   ]
  },
  {
   "cell_type": "code",
   "execution_count": 14,
   "outputs": [
    {
     "name": "stdout",
     "text": [
      "Requirement already satisfied: PyYAML in /Users/iokulist/.conda/envs/untitled/lib/python3.7/site-packages (5.1.1)\r\n"
     ],
     "output_type": "stream"
    }
   ],
   "source": [
    "!{sys.executable} -m pip install PyYAML\n"
   ],
   "metadata": {
    "collapsed": false,
    "pycharm": {
     "name": "#%%\n",
     "is_executing": false
    }
   }
  },
  {
   "cell_type": "code",
   "execution_count": 15,
   "outputs": [],
   "source": [
    "def load_personal_finance(expanduser):\n",
    "    personal_finance = {}\n",
    "    personal_finance_path = expanduser\n",
    "    if os.path.exists(personal_finance_path):\n",
    "        with open(personal_finance_path) as f:\n",
    "            personal_finance = yaml.safe_load(f)\n",
    "        print(personal_finance)\n",
    "    return personal_finance\n"
   ],
   "metadata": {
    "collapsed": false,
    "pycharm": {
     "name": "#%%\n",
     "is_executing": false
    }
   }
  },
  {
   "cell_type": "code",
   "execution_count": 16,
   "metadata": {
    "pycharm": {
     "is_executing": false,
     "name": "#%%\n"
    }
   },
   "outputs": [],
   "source": [
    "current_age = 25\n",
    "retire_age = 50\n",
    "end_of_life_age = 90\n",
    "\n",
    "post_tax_current_savings = 100_000 \n",
    "yearly_post_tax_and_benefits_income = 100_000 \n",
    "yearly_post_tax_and_benefits_spend = 100_000\n",
    "\n",
    "tax_deferred_current_savings=20_000\n",
    "tax_deferred_yearly_savings=19_000\n",
    "tax_deferred_employer_matching_rate = 1\n",
    "tax_deferred_maximum_of_federal_limit = 0.035\n",
    "tax_deferred_federal_limit = 280_000 \n",
    "\n",
    "tax_free_current_savings =5_000\n",
    "tax_free_yearly_savings\t =26_000\n",
    "\n",
    "tax_rate = 0.30\n",
    "post_tax_to_tax_deferred_adj = 1/(1 - tax_rate)\n",
    "\n",
    "inflation = lambda : random.randint(1,7)/100\n",
    "rate_of_return = lambda : random.randint(4,12)/100\n",
    "\n",
    "simulations = 100\n",
    "\n",
    "\n",
    "# update with values from personal_finance\n",
    "# personal_finance = load_personal_finance(os.path.expanduser(\"~/personal_finance.yaml\"))\n",
    "# for k,v in personal_finance.items():\n",
    "#     globals()[k] = v\n",
    "#     print(post_tax_current_savings)\n"
   ]
  },
  {
   "cell_type": "code",
   "execution_count": 17,
   "outputs": [],
   "source": [
    "def subtract_with_remainder(balance, amount):\n",
    "    \"\"\"\n",
    "    subtract from balance, cap minimum balance at zero and return remaining amount (to subtract)\n",
    "    :param balance: \n",
    "    :param amount: \n",
    "    :return: \n",
    "    \"\"\"\n",
    "    if balance > 0:\n",
    "        balance -= amount\n",
    "        if balance > 0:\n",
    "            amount = 0\n",
    "        else:\n",
    "            amount = abs(post_tax_balance[step])\n",
    "            balance= 0\n",
    "    return balance, amount\n",
    "\n",
    "def subtract_balances(amount: int, \n",
    "             post_tax_to_tax_deferred_adj: float, \n",
    "             step: int, \n",
    "             post_tax_balance: numpy.ndarray, \n",
    "             tax_deferred_balance: numpy.ndarray, \n",
    "             tax_free_balance: numpy.ndarray):\n",
    "    \n",
    "    post_tax_balance[step], amount = subtract_with_remainder(post_tax_balance[step],amount)\n",
    "    \n",
    "    amount *= post_tax_to_tax_deferred_adj\n",
    "    tax_deferred_balance[step], amount = subtract_with_remainder(tax_deferred_balance[step], amount)\n",
    "    amount /= post_tax_to_tax_deferred_adj\n",
    "\n",
    "    tax_free_balance[step], amount = subtract_with_remainder(tax_free_balance[step], amount)\n"
   ],
   "metadata": {
    "collapsed": false,
    "pycharm": {
     "name": "#%%\n",
     "is_executing": false
    }
   }
  },
  {
   "cell_type": "code",
   "execution_count": 18,
   "outputs": [],
   "source": [
    "steps = end_of_life_age - current_age\n",
    "sims = numpy.zeros((simulations,steps))\n",
    "\n",
    "for sim in range(simulations):\n",
    "    post_tax_balance = numpy.zeros(steps)\n",
    "    post_tax_balance[0] = post_tax_current_savings\n",
    "    \n",
    "    tax_deferred_balance = numpy.zeros(steps)\n",
    "    tax_deferred_balance[0] = tax_deferred_current_savings\n",
    "    \n",
    "    tax_free_balance = numpy.zeros(steps)\n",
    "    tax_free_balance[0] = tax_free_current_savings\n",
    "    \n",
    "    for step in range(1, steps):\n",
    "        retired = (step + current_age) >= retire_age \n",
    "        this_year_rate_of_return = rate_of_return()\n",
    "        \n",
    "        post_tax_interest = post_tax_balance[step - 1] * this_year_rate_of_return\n",
    "        tax_on_post_tax_interest = post_tax_interest * tax_rate\n",
    "        post_tax_yearly_change = post_tax_interest + \\\n",
    "                        - tax_on_post_tax_interest + \\\n",
    "                        (yearly_post_tax_and_benefits_income if not retired else 0)\n",
    "        \n",
    "        tax_deferred_yearly_employer_contributions = min(\n",
    "            tax_deferred_yearly_savings * tax_deferred_employer_matching_rate, \n",
    "            tax_deferred_maximum_of_federal_limit * tax_deferred_federal_limit)\n",
    "        \n",
    "        tax_deferred_yearly_change = tax_deferred_balance[step - 1] * this_year_rate_of_return + \\\n",
    "                                     (tax_deferred_yearly_savings if not retired else 0) + \\\n",
    "                                     (tax_deferred_yearly_employer_contributions if not retired else 0)\n",
    "        \n",
    "        tax_free_yearly_change = tax_free_balance[step - 1] * this_year_rate_of_return\n",
    "        \n",
    "        post_tax_balance[step] = post_tax_balance[step - 1] + post_tax_yearly_change\n",
    "        tax_deferred_balance[step] = tax_deferred_balance[step - 1] + tax_deferred_yearly_change\n",
    "        tax_free_balance[step] = tax_free_balance[step - 1] +  tax_deferred_yearly_change\n",
    "       \n",
    "        subtract_balances(yearly_post_tax_and_benefits_spend, \n",
    "                 post_tax_to_tax_deferred_adj, \n",
    "                 step, \n",
    "                 post_tax_balance, \n",
    "                 tax_deferred_balance, \n",
    "                 tax_free_balance)\n",
    "    \n",
    "    sims[sim] = post_tax_balance + tax_deferred_balance + tax_free_balance"
   ],
   "metadata": {
    "collapsed": false,
    "pycharm": {
     "name": "#%%\n",
     "is_executing": false
    }
   }
  },
  {
   "cell_type": "code",
   "execution_count": 21,
   "metadata": {
    "pycharm": {
     "is_executing": false,
     "name": "#%%\n"
    }
   },
   "outputs": [
    {
     "data": {
      "text/plain": "Text(0.5, 0, 'Age')"
     },
     "metadata": {},
     "output_type": "execute_result",
     "execution_count": 21
    },
    {
     "data": {
      "text/plain": "<Figure size 432x288 with 1 Axes>",
      "image/png": "[encoded data removed]"
     },
     "metadata": {
      "needs_background": "light"
     },
     "output_type": "display_data"
    }
   ],
   "source": [
    "for sim in range(simulations):\n",
    "    plt.plot(range(current_age, end_of_life_age), sims[sim])\n",
    "\n",
    "plt.ylabel('$')\n",
    "plt.xlabel('Age')\n"
   ]
  },
  {
   "cell_type": "code",
   "execution_count": 23,
   "metadata": {
    "pycharm": {
     "is_executing": false,
     "name": "#%%\n"
    }
   },
   "outputs": [
    {
     "name": "stdout",
     "text": [
      "40514508.13289952\n"
     ],
     "output_type": "stream"
    },
    {
     "data": {
      "text/plain": "<Figure size 432x288 with 1 Axes>",
      "image/png": "[encoded data removed]"
     },
     "metadata": {
      "needs_background": "light"
     },
     "output_type": "display_data"
    }
   ],
   "source": [
    "outcomes = sims[:, -1]\n",
    "h = plt.hist(outcomes, bins=100)\n",
    "plt.ylabel('count')\n",
    "plt.xlabel('$')\n",
    "print(statistics.mean(outcomes))"
   ]
  },
  {
   "cell_type": "code",
   "execution_count": null,
   "outputs": [],
   "source": [
    "\n"
   ],
   "metadata": {
    "collapsed": false,
    "pycharm": {
     "name": "#%%\n"
    }
   }
  }
 ],
 "metadata": {
  "kernelspec": {
   "display_name": "Python 3",
   "language": "python",
   "name": "python3"
  },
  "language_info": {
   "codemirror_mode": {
    "name": "ipython",
    "version": 3
   },
   "file_extension": ".py",
   "mimetype": "text/x-python",
   "name": "python",
   "nbconvert_exporter": "python",
   "pygments_lexer": "ipython3",
   "version": "3.7.3"
  },
  "pycharm": {
   "stem_cell": {
    "cell_type": "raw",
    "source": [],
    "metadata": {
     "collapsed": false
    }
   }
  }
 },
 "nbformat": 4,
 "nbformat_minor": 1
}