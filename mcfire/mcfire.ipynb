{
 "cells": [
  {
   "cell_type": "markdown",
   "metadata": {},
   "source": [
    "Related links\n",
    "\n",
    "\n",
    "*   [McFire On Github](https://github.com/okigan/McFire)\n",
    "*   [Nest egg Monter Carlo Simulation on Vanguard](https://retirementplans.vanguard.com/VGApp/pe/pubeducation/calculators/RetirementNestEggCalc.jsf)\n"
   ]
  },
  {
   "cell_type": "code",
   "execution_count": null,
   "metadata": {
    "pycharm": {
     "is_executing": false,
     "name": "#%%\n"
    }
   },
   "outputs": [],
   "source": [
    "# @title age { run: \"auto\" }\n",
    "current_age = 25  # @param {type:\"slider\", min:0, max:100, step:1}\n",
    "retire_age = 45  # @param {type:\"slider\", min:0, max:100, step:1}\n",
    "end_of_life_age = 90  # @param {type:\"slider\", min:0, max:100, step:1}"
   ]
  },
  {
   "cell_type": "code",
   "execution_count": null,
   "metadata": {
    "pycharm": {
     "name": "#%%\n"
    }
   },
   "outputs": [],
   "source": [
    "# @title savings { run: \"auto\" }\n",
    "post_tax_current_savings = 100000  # @param {type:\"slider\", min:0, max:10000000, step:1000}\n",
    "yearly_post_tax_and_benefits_income = 100000  # @param {type:\"slider\", min:0, max:10000000, step:1000}\n",
    "yearly_post_tax_and_benefits_spend = 50000  # @param {type:\"slider\", min:0, max:10000000, step:1000}\n",
    "\n",
    "tax_deferred_current_savings = 20000  # @param {type:\"slider\", min:0, max:10000000, step:1000}\n",
    "tax_deferred_yearly_savings = 19000  # @param {type:\"slider\", min:0, max:10000000, step:1000}\n",
    "tax_deferred_employer_matching_rate = 1.0  # @param {type:\"slider\", min:0, max:2, step:0.1}\n",
    "tax_deferred_maximum_of_federal_limit = 0.035  # @param {type:\"slider\", min:0, max:2, step:0.001}\n",
    "tax_deferred_federal_limit = 280000  # @param {type:\"slider\", min:0, max:10000000, step:10000}\n",
    "\n",
    "tax_free_current_savings = 5000  # @param {type:\"slider\", min:0, max:10000, step:1000}\n",
    "tax_free_yearly_savings = 26000  # @param {type:\"slider\", min:0, max:100000, step:1000}"
   ]
  },
  {
   "cell_type": "code",
   "execution_count": null,
   "metadata": {
    "pycharm": {
     "name": "#%%\n"
    }
   },
   "outputs": [],
   "source": [
    "# @title rates { run: \"auto\" }\n",
    "tax_rate = 0.30  # @param {type:\"slider\", min:0, max:1, step:0.01}\n",
    "post_tax_to_tax_deferred_adj = 1 / (1 - tax_rate)\n",
    "\n",
    "inflation_min = 1  # @param {type:\"slider\", min:-5, max:25, step:1}\n",
    "inflation_max = 4  # @param {type:\"slider\", min:-5, max:25, step:1}\n",
    "\n",
    "rate_of_return_min = -8  # @param {type:\"slider\", min:-10, max:100, step:1}\n",
    "rate_of_return_max = 12  # @param {type:\"slider\", min:-10, max:100, step:1}\n",
    "\n",
    "simulations = 100\n",
    "\n",
    "\n",
    "def inflation():\n",
    "    return random.uniform(inflation_min, inflation_max) / 100\n",
    "\n",
    "\n",
    "def rate_of_return():\n",
    "    return random.uniform(rate_of_return_min, rate_of_return_max) / 100\n",
    "\n",
    "\n",
    "# # update with values from personal_finance\n",
    "# personal_finance = load_personal_finance(os.path.expanduser(\"~/personal_finance.yaml\"))\n",
    "# for k,v in personal_finance.items():\n",
    "#     globals()[k] = v\n",
    "# print(personal_finance)\n",
    "\n"
   ]
  },
  {
   "cell_type": "code",
   "execution_count": null,
   "metadata": {
    "lines_to_next_cell": 2,
    "pycharm": {
     "is_executing": false,
     "name": "#%%\n"
    }
   },
   "outputs": [],
   "source": [
    "import os\n",
    "import random\n",
    "import matplotlib.pyplot as plt\n",
    "import statistics\n",
    "import numpy\n",
    "import yaml\n",
    "\n",
    "\n",
    "# https://retirementplans.vanguard.com/VGApp/pe/pubeducation/calculators/RetirementNestEggCalc.jsf"
   ]
  },
  {
   "cell_type": "code",
   "execution_count": null,
   "metadata": {
    "pycharm": {
     "is_executing": false,
     "name": "#%%\n"
    }
   },
   "outputs": [],
   "source": [
    "def run_from_ipython():\n",
    "    try:\n",
    "        __IPYTHON__\n",
    "        return True\n",
    "    except NameError:\n",
    "        return False\n",
    "\n",
    "\n",
    "if run_from_ipython():\n",
    "    os.system('python -m pip install PyYAML')"
   ]
  },
  {
   "cell_type": "code",
   "execution_count": null,
   "metadata": {
    "pycharm": {
     "is_executing": false,
     "name": "#%%\n"
    }
   },
   "outputs": [],
   "source": [
    "def load_personal_finance(path):\n",
    "    personal_finance = {}\n",
    "    if os.path.exists(path):\n",
    "        with open(path) as f:\n",
    "            personal_finance = yaml.safe_load(f)\n",
    "        # print(personal_finance)\n",
    "    return personal_finance\n",
    "\n",
    "\n"
   ]
  },
  {
   "cell_type": "code",
   "execution_count": null,
   "metadata": {
    "pycharm": {
     "is_executing": false,
     "name": "#%%\n"
    }
   },
   "outputs": [],
   "source": [
    "def subtract_with_remainder(balance, amount):\n",
    "    \"\"\"\n",
    "    subtract from balance, cap minimum balance at zero and return remaining amount (to subtract)\n",
    "    :param balance:\n",
    "    :param amount:\n",
    "    :return:\n",
    "    \"\"\"\n",
    "    if balance > 0:\n",
    "        balance -= amount\n",
    "        if balance > 0:\n",
    "            amount = 0\n",
    "        else:\n",
    "            amount = abs(balance)\n",
    "            balance = 0\n",
    "    return balance, amount\n",
    "\n",
    "\n",
    "def subtract_balances(amount: int,\n",
    "                      post_tax_to_tax_deferred_adj: float,\n",
    "                      step: int,\n",
    "                      post_tax_balance: numpy.ndarray,\n",
    "                      tax_deferred_balance: numpy.ndarray,\n",
    "                      tax_free_balance: numpy.ndarray):\n",
    "    post_tax_balance[step], amount = subtract_with_remainder(post_tax_balance[step], amount)\n",
    "\n",
    "    amount *= post_tax_to_tax_deferred_adj\n",
    "    tax_deferred_balance[step], amount = subtract_with_remainder(tax_deferred_balance[step], amount)\n",
    "    amount /= post_tax_to_tax_deferred_adj\n",
    "\n",
    "    tax_free_balance[step], amount = subtract_with_remainder(tax_free_balance[step], amount)\n",
    "\n",
    "    return post_tax_balance[step], tax_deferred_balance[step], tax_free_balance[step], amount"
   ]
  },
  {
   "cell_type": "code",
   "execution_count": null,
   "metadata": {},
   "outputs": [],
   "source": [
    "def simulate(steps):\n",
    "    post_tax_balance = numpy.zeros(steps)\n",
    "    post_tax_balance[0] = post_tax_current_savings\n",
    "    tax_deferred_balance = numpy.zeros(steps)\n",
    "    tax_deferred_balance[0] = tax_deferred_current_savings\n",
    "    tax_free_balance = numpy.zeros(steps)\n",
    "    tax_free_balance[0] = tax_free_current_savings\n",
    "    yearly_post_tax_and_benefits_spend_inflation_adjusted = numpy.zeros(steps)\n",
    "    yearly_post_tax_and_benefits_spend_inflation_adjusted[0] = yearly_post_tax_and_benefits_spend\n",
    "    for step in range(1, steps):\n",
    "        retired = (step + current_age) >= retire_age\n",
    "        this_year_rate_of_return = rate_of_return()\n",
    "        this_year_inflation = inflation()\n",
    "\n",
    "        # post tax changes\n",
    "        yearly_post_tax_and_benefits_spend_inflation_adjusted[step] = \\\n",
    "            yearly_post_tax_and_benefits_spend_inflation_adjusted[step - 1] * (1 + this_year_inflation)\n",
    "\n",
    "        post_tax_interest = post_tax_balance[step - 1] * this_year_rate_of_return\n",
    "        tax_on_post_tax_interest = post_tax_interest * tax_rate\n",
    "        post_tax_yearly_change = post_tax_interest - tax_on_post_tax_interest + (\n",
    "            yearly_post_tax_and_benefits_income if not retired else 0)\n",
    "\n",
    "        # tax deferred changes\n",
    "        tax_deferred_yearly_employer_contributions = min(\n",
    "            tax_deferred_yearly_savings * tax_deferred_employer_matching_rate,\n",
    "            tax_deferred_maximum_of_federal_limit * tax_deferred_federal_limit)\n",
    "\n",
    "        tax_deferred_yearly_change = tax_deferred_balance[step - 1] * this_year_rate_of_return + (\n",
    "            tax_deferred_yearly_savings if not retired else 0) + (\n",
    "            tax_deferred_yearly_employer_contributions if not retired else 0)\n",
    "\n",
    "        # tax free\n",
    "        tax_free_yearly_change = tax_free_balance[step - 1] * this_year_rate_of_return\n",
    "\n",
    "        # update balances\n",
    "        post_tax_balance[step] = post_tax_balance[step - 1] + post_tax_yearly_change\n",
    "        tax_deferred_balance[step] = tax_deferred_balance[step - 1] + tax_deferred_yearly_change\n",
    "        tax_free_balance[step] = tax_free_balance[step - 1] + tax_free_yearly_change\n",
    "\n",
    "        subtract_balances(yearly_post_tax_and_benefits_spend_inflation_adjusted[step],\n",
    "                          post_tax_to_tax_deferred_adj,\n",
    "                          step,\n",
    "                          post_tax_balance,\n",
    "                          tax_deferred_balance,\n",
    "                          tax_free_balance)\n",
    "    return post_tax_balance, tax_deferred_balance, tax_free_balance\n",
    "\n",
    "\n",
    "def simulate_all():\n",
    "    steps = end_of_life_age - current_age\n",
    "    sims = numpy.zeros((simulations, steps))\n",
    "    for sim in range(simulations):\n",
    "        post_tax_balance, tax_deferred_balance, tax_free_balance = simulate(steps)\n",
    "        sims[sim] = post_tax_balance + tax_deferred_balance + tax_free_balance\n",
    "\n",
    "    return sims"
   ]
  },
  {
   "cell_type": "code",
   "execution_count": null,
   "metadata": {},
   "outputs": [],
   "source": [
    "def simulate_and_plot():\n",
    "    sims = simulate_all()\n",
    "    for sim in range(simulations):\n",
    "        plt.plot(range(current_age, end_of_life_age), sims[sim])\n",
    "    plt.ylabel('$')\n",
    "    plt.xlabel('Age')\n",
    "    plt.show()\n",
    "    outcomes = sims[:, -1]\n",
    "    h = plt.hist(outcomes, bins=100)\n",
    "    plt.ylabel('count')\n",
    "    plt.xlabel('$')\n",
    "    plt.show()\n",
    "    print(statistics.mean(outcomes))\n",
    "\n",
    "\n",
    "if __name__ == \"__main__\" or run_from_ipython():\n",
    "    simulate_and_plot()"
   ]
  },
  {
   "cell_type": "code",
   "execution_count": null,
   "metadata": {
    "pycharm": {
     "name": "#%%\n"
    }
   },
   "outputs": [],
   "source": []
  }
 ],
 "metadata": {
  "kernelspec": {
   "display_name": "Python 3",
   "language": "python",
   "name": "python3"
  }
 },
 "nbformat": 4,
 "nbformat_minor": 2
}
